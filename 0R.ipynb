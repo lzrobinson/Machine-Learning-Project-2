{
 "cells": [
  {
   "cell_type": "code",
   "execution_count": 35,
   "id": "8792e3c7-12f6-4a66-b032-049c5b8e0d8c",
   "metadata": {},
   "outputs": [],
   "source": [
    "#OR Baseline Model for Book Rating\n",
    "\n",
    "import random\n",
    "import numpy as np\n",
    "import pandas as pd\n",
    "import math\n",
    "from sklearn.cluster import KMeans\n",
    "from pprint import pprint\n",
    "import pickle\n",
    "# OVERALL APPROACH:\n",
    "# 1. Read csv file into pandas df\n",
    "# 2. Group by class label\n",
    "# 3. Calculate prior probabilities and likelihood pdfs\n",
    "# 4. Create predict() function for using these pdfs to predict class labels\n",
    "# 6. evaluate() performance by comparing model outputs to ground truth labels"
   ]
  },
  {
   "cell_type": "code",
   "execution_count": 36,
   "id": "18bdcd07-565a-4783-ac28-76000fe9bac8",
   "metadata": {},
   "outputs": [],
   "source": [
    "def preprocess(filename):\n",
    "    # process csv file into pandas dataframe\n",
    "    df = pd.read_csv(filename)\n",
    "    #df = df.iloc[:, 1:]\n",
    "    return df"
   ]
  },
  {
   "cell_type": "code",
   "execution_count": 37,
   "id": "2850692c-b1ff-4cdd-8bff-014a39bda068",
   "metadata": {},
   "outputs": [],
   "source": [
    "# Probability of all the labels\n",
    "def calc_prior(data):\n",
    "    prior_prob = {}\n",
    "\n",
    "    labels = data.values[:, -1]\n",
    "    n = len(labels)\n",
    "    unique_labels, counts = np.unique(labels, return_counts=True)\n",
    "\n",
    "    for i in range(len(unique_labels)):\n",
    "        prior_prob[unique_labels[i]] = (counts[i] / n).round(2)\n",
    "\n",
    "    return prior_prob"
   ]
  },
  {
   "cell_type": "code",
   "execution_count": 38,
   "id": "32282b91-4a98-4732-8f5a-569a00ce58d5",
   "metadata": {},
   "outputs": [],
   "source": [
    "# 'Training' for 0R baseline: finds the class with the highest frequency\n",
    "def zero_r_training(df):\n",
    "    priors = calc_prior(df)\n",
    "    maxlabel = list(priors.keys())[0]\n",
    "    maxval = 0\n",
    "    for label in priors.keys():\n",
    "        label_count = 0\n",
    "        for row in df.iterrows():\n",
    "            if row[-1][-1] == label:\n",
    "                label_count += 1\n",
    "        if label_count > maxval:\n",
    "            maxval = label_count\n",
    "            maxlabel = label\n",
    "    return priors, maxlabel"
   ]
  },
  {
   "cell_type": "code",
   "execution_count": 39,
   "id": "e9be3f43-8932-4abc-af78-660f307092ce",
   "metadata": {},
   "outputs": [],
   "source": [
    "# Zero R prediction for test df\n",
    "def zero_r_predict(zero_r_val, test_df):\n",
    "    length = len(test_df)\n",
    "    return pd.Series([zero_r_val]*length)"
   ]
  },
  {
   "cell_type": "code",
   "execution_count": 40,
   "id": "87606f2d-c8d7-4780-b0c0-f2465e5abb60",
   "metadata": {},
   "outputs": [
    {
     "data": {
      "text/plain": [
       "0       4.0\n",
       "1       4.0\n",
       "2       4.0\n",
       "3       4.0\n",
       "4       4.0\n",
       "       ... \n",
       "5761    4.0\n",
       "5762    4.0\n",
       "5763    4.0\n",
       "5764    4.0\n",
       "5765    4.0\n",
       "Length: 5766, dtype: float64"
      ]
     },
     "execution_count": 40,
     "metadata": {},
     "output_type": "execute_result"
    }
   ],
   "source": [
    "# First, preprocess train and test data\n",
    "train_df = preprocess(\"project_data_files/book_rating_train.csv\")\n",
    "test_df = preprocess(\"project_data_files/book_rating_test.csv\")\n",
    "\n",
    "# Train 0R model\n",
    "priors, label = zero_r_training(train_df)\n",
    "\n",
    "# Predict 0R model on test df\n",
    "predictions = zero_r_predict(label, test_df)\n",
    "predictions"
   ]
  },
  {
   "cell_type": "code",
   "execution_count": 43,
   "id": "de097905-e4a6-4aee-825d-cc4473078f7c",
   "metadata": {},
   "outputs": [
    {
     "data": {
      "text/plain": [
       "CountVectorizer(stop_words='english')"
      ]
     },
     "execution_count": 43,
     "metadata": {},
     "output_type": "execute_result"
    }
   ],
   "source": [
    "vocab = pickle.load(open(\"project_data_files/book_text_features_countvec/train_name_countvectorizer.pkl\", \"rb\"))\n",
    "vocab\n",
    "\n",
    "thing = pickle.load(open(\"project_data_files/book_text_features_countvec/train_desc_countvectorizer.pkl\", \"rb\"))\n",
    "thing"
   ]
  },
  {
   "cell_type": "code",
   "execution_count": null,
   "id": "a6decbf0-19d9-4560-83fb-df4e389a6086",
   "metadata": {},
   "outputs": [],
   "source": []
  }
 ],
 "metadata": {
  "kernelspec": {
   "display_name": "Python 3 (ipykernel)",
   "language": "python",
   "name": "python3"
  },
  "language_info": {
   "codemirror_mode": {
    "name": "ipython",
    "version": 3
   },
   "file_extension": ".py",
   "mimetype": "text/x-python",
   "name": "python",
   "nbconvert_exporter": "python",
   "pygments_lexer": "ipython3",
   "version": "3.9.13"
  }
 },
 "nbformat": 4,
 "nbformat_minor": 5
}
