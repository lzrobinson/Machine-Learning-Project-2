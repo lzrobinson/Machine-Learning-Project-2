{
 "cells": [
  {
   "cell_type": "code",
   "execution_count": 4,
   "id": "3fbb01d7-7382-4db6-915a-aa091f3d4875",
   "metadata": {},
   "outputs": [],
   "source": [
    "import pandas as pd\n",
    "from sklearn.tree import DecisionTreeClassifier, export_text\n",
    "from sklearn.model_selection import train_test_split\n"
   ]
  },
  {
   "cell_type": "code",
   "execution_count": 5,
   "id": "932c1ffc-727c-453f-9d8c-29ef1b164770",
   "metadata": {},
   "outputs": [],
   "source": [
    "def preprocess_csv(file_path):\n",
    "    # Read the CSV file into a pandas dataframe\n",
    "    df = pd.read_csv(file_path)\n",
    "    \n",
    "    # Handling missing values\n",
    "    # Replace any missing values (NaN) with appropriate strategies\n",
    "    # For numerical columns, you can use methods like mean, median, or interpolation\n",
    "    df.fillna(df.mean(), inplace=True)  # Example: Replace missing values with column means\n",
    "    \n",
    "    # For categorical columns, you can use methods like mode or a constant value\n",
    "    df.fillna('Unknown', inplace=True)  # Example: Replace missing values with 'Unknown'\n",
    "    \n",
    "    # Process or remodel the description columns\n",
    "    # Depending on your specific use case, you can apply techniques like text preprocessing, feature extraction, or encoding\n",
    "    \n",
    "    # Text preprocessing: Remove special characters, convert to lowercase, etc.\n",
    "    df['description'] = df['description'].str.replace('[^\\w\\s]', '').str.lower()\n",
    "    \n",
    "    # Feature extraction: Extract relevant information from the description\n",
    "    # You can use techniques like TF-IDF, word embeddings, or topic modeling to extract features\n",
    "    \n",
    "    # Encoding: Convert categorical description columns into numeric representations\n",
    "    # Techniques like one-hot encoding or word embeddings can be useful\n",
    "    \n",
    "    # Return the preprocessed dataframe\n",
    "    return df\n"
   ]
  },
  {
   "cell_type": "code",
   "execution_count": null,
   "id": "aa4d9c21-6ace-4e89-a0a0-0af9ba399ccf",
   "metadata": {},
   "outputs": [],
   "source": [
    "# Load the dataset\n",
    "train_df = preprocess_csv('project_data_files/book_rating_train.csv')\n",
    "test_df = preprocess_csv('project_data_files/book_rating_test.csv')\n",
    "\n",
    "# Separate the feature columns (X) and the target column (y)\n",
    "X = train_df.drop('rating_label', axis=1)\n",
    "y = train_df['rating_label']\n",
    "\n",
    "\n"
   ]
  },
  {
   "cell_type": "code",
   "execution_count": null,
   "id": "a51e1520-f4f4-4618-b870-a7a66f9e918d",
   "metadata": {},
   "outputs": [],
   "source": [
    "# Create the decision tree classifier object\n",
    "tree = DecisionTreeClassifier()\n",
    "\n",
    "# Train the model using the training data\n",
    "tree.fit(X, y)\n",
    "\n",
    "tree_text = export_text(tree, feature_names=vectorizer.get_feature_names())\n",
    "print(tree_text)\n"
   ]
  },
  {
   "cell_type": "code",
   "execution_count": null,
   "id": "80f919df-d670-4bb5-8a06-08adbb897330",
   "metadata": {},
   "outputs": [],
   "source": [
    "# Make predictions on the testing data\n",
    "predictions = tree.predict(test_df)\n",
    "\n",
    "print(predictions)"
   ]
  },
  {
   "cell_type": "code",
   "execution_count": null,
   "id": "893fb26a-d40e-4228-ac77-d329ced1fed5",
   "metadata": {},
   "outputs": [],
   "source": [
    "# Evaluate the model\n",
    "#accuracy = tree.score(X_test, y_test)\n"
   ]
  },
  {
   "cell_type": "code",
   "execution_count": null,
   "id": "877f5542-50f6-4bb0-af6f-d9e052a1200e",
   "metadata": {},
   "outputs": [],
   "source": []
  }
 ],
 "metadata": {
  "kernelspec": {
   "display_name": "Python 3 (ipykernel)",
   "language": "python",
   "name": "python3"
  },
  "language_info": {
   "codemirror_mode": {
    "name": "ipython",
    "version": 3
   },
   "file_extension": ".py",
   "mimetype": "text/x-python",
   "name": "python",
   "nbconvert_exporter": "python",
   "pygments_lexer": "ipython3",
   "version": "3.10.9"
  }
 },
 "nbformat": 4,
 "nbformat_minor": 5
}
