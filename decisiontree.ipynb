{
 "cells": [
  {
   "cell_type": "code",
   "execution_count": null,
   "id": "3fbb01d7-7382-4db6-915a-aa091f3d4875",
   "metadata": {},
   "outputs": [
    {
     "ename": "SyntaxError",
     "evalue": "invalid syntax (4063162560.py, line 4)",
     "output_type": "error",
     "traceback": [
      "\u001b[1;36m  File \u001b[1;32m\"C:\\Users\\leoro\\AppData\\Local\\Temp\\ipykernel_1916\\4063162560.py\"\u001b[1;36m, line \u001b[1;32m4\u001b[0m\n\u001b[1;33m    from 0R. import preprocess\u001b[0m\n\u001b[1;37m         ^\u001b[0m\n\u001b[1;31mSyntaxError\u001b[0m\u001b[1;31m:\u001b[0m invalid syntax\n"
     ]
    }
   ],
   "source": [
    "import pandas as pd\n",
    "from sklearn.tree import DecisionTreeClassifier\n",
    "from sklearn.model_selection import train_test_split\n"
   ]
  },
  {
   "cell_type": "code",
   "execution_count": null,
   "id": "932c1ffc-727c-453f-9d8c-29ef1b164770",
   "metadata": {},
   "outputs": [],
   "source": [
    "def preprocess_csv(file_path):\n",
    "    # Read the CSV file into a pandas dataframe\n",
    "    df = pd.read_csv(file_path)\n",
    "    \n",
    "    # Handling missing values\n",
    "    # Replace any missing values (NaN) with appropriate strategies\n",
    "    # For numerical columns, you can use methods like mean, median, or interpolation\n",
    "    df.fillna(df.mean(), inplace=True)  # Example: Replace missing values with column means\n",
    "    \n",
    "    # For categorical columns, you can use methods like mode or a constant value\n",
    "    df.fillna('Unknown', inplace=True)  # Example: Replace missing values with 'Unknown'\n",
    "    \n",
    "    # Process or remodel the description columns\n",
    "    # Depending on your specific use case, you can apply techniques like text preprocessing, feature extraction, or encoding\n",
    "    \n",
    "    # Text preprocessing: Remove special characters, convert to lowercase, etc.\n",
    "    df['description'] = df['description'].str.replace('[^\\w\\s]', '').str.lower()\n",
    "    \n",
    "    # Feature extraction: Extract relevant information from the description\n",
    "    # You can use techniques like TF-IDF, word embeddings, or topic modeling to extract features\n",
    "    \n",
    "    # Encoding: Convert categorical description columns into numeric representations\n",
    "    # Techniques like one-hot encoding or word embeddings can be useful\n",
    "    \n",
    "    # Return the preprocessed dataframe\n",
    "    return df\n"
   ]
  },
  {
   "cell_type": "code",
   "execution_count": null,
   "id": "79b3043e-1161-4213-bed7-d144fdfa4830",
   "metadata": {},
   "outputs": [],
   "source": [
    "# Load the dataset\n",
    "data = pd.read_csv('your_dataset.csv')\n",
    "\n",
    "# Separate the feature columns (X) and the target column (y)\n",
    "X = data.drop('target_column', axis=1)\n",
    "y = data['target_column']\n",
    "\n",
    "# Preprocess the data if needed (e.g., handling missing values, encoding categorical variables)\n",
    "# Make sure the data is in numeric format and ready for modeling\n"
   ]
  },
  {
   "cell_type": "code",
   "execution_count": null,
   "id": "a51e1520-f4f4-4618-b870-a7a66f9e918d",
   "metadata": {},
   "outputs": [],
   "source": [
    "# Create the decision tree classifier object\n",
    "tree = DecisionTreeClassifier()\n",
    "\n",
    "# Train the model using the training data\n",
    "tree.fit(X_train, y_train)\n"
   ]
  },
  {
   "cell_type": "code",
   "execution_count": null,
   "id": "80f919df-d670-4bb5-8a06-08adbb897330",
   "metadata": {},
   "outputs": [],
   "source": [
    "# Make predictions on the testing data\n",
    "predictions = tree.predict(X_test)\n"
   ]
  },
  {
   "cell_type": "code",
   "execution_count": null,
   "id": "893fb26a-d40e-4228-ac77-d329ced1fed5",
   "metadata": {},
   "outputs": [],
   "source": [
    "# Evaluate the model\n",
    "accuracy = tree.score(X_test, y_test)\n"
   ]
  }
 ],
 "metadata": {
  "kernelspec": {
   "display_name": "Python 3 (ipykernel)",
   "language": "python",
   "name": "python3"
  },
  "language_info": {
   "codemirror_mode": {
    "name": "ipython",
    "version": 3
   },
   "file_extension": ".py",
   "mimetype": "text/x-python",
   "name": "python",
   "nbconvert_exporter": "python",
   "pygments_lexer": "ipython3",
   "version": "3.9.13"
  }
 },
 "nbformat": 4,
 "nbformat_minor": 5
}
