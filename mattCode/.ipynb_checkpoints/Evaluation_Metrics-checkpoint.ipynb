{
 "cells": [
  {
   "cell_type": "code",
   "execution_count": null,
   "id": "7db88856",
   "metadata": {},
   "outputs": [],
   "source": [
    "#########Creating Some Evaluation Measures so we can analyse##############\n",
    "\n",
    "\n",
    "######### They all require actual and predicted y values  ################\n"
   ]
  },
  {
   "cell_type": "code",
   "execution_count": 16,
   "id": "3de302fd",
   "metadata": {},
   "outputs": [],
   "source": [
    "import pandas as pd\n",
    "import numpy as np\n",
    "import matplotlib.pyplot as plt\n",
    "from sklearn.datasets import make_classification\n",
    "from sklearn.metrics import confusion_matrix, ConfusionMatrixDisplay, classification_report\n",
    "from sklearn.svm import SVC\n",
    "from operator import truediv"
   ]
  },
  {
   "cell_type": "code",
   "execution_count": 19,
   "id": "1c55a942",
   "metadata": {},
   "outputs": [
    {
     "name": "stdout",
     "output_type": "stream",
     "text": [
      "[1 3 2]\n"
     ]
    },
    {
     "data": {
      "image/png": "[encoded data removed]",
      "text/plain": [
       "<Figure size 640x480 with 2 Axes>"
      ]
     },
     "metadata": {},
     "output_type": "display_data"
    },
    {
     "name": "stdout",
     "output_type": "stream",
     "text": [
      "              precision    recall  f1-score   support\n",
      "\n",
      "           1      0.000     0.000     0.000         2\n",
      "           2      0.500     1.000     0.667         2\n",
      "           3      1.000     1.000     1.000         2\n",
      "\n",
      "    accuracy                          0.667         6\n",
      "   macro avg      0.500     0.667     0.556         6\n",
      "weighted avg      0.500     0.667     0.556         6\n",
      "\n"
     ]
    },
    {
     "name": "stderr",
     "output_type": "stream",
     "text": [
      "C:\\Users\\mattb\\anaconda3\\lib\\site-packages\\sklearn\\metrics\\_classification.py:1344: UndefinedMetricWarning: Precision and F-score are ill-defined and being set to 0.0 in labels with no predicted samples. Use `zero_division` parameter to control this behavior.\n",
      "  _warn_prf(average, modifier, msg_start, len(result))\n",
      "C:\\Users\\mattb\\anaconda3\\lib\\site-packages\\sklearn\\metrics\\_classification.py:1344: UndefinedMetricWarning: Precision and F-score are ill-defined and being set to 0.0 in labels with no predicted samples. Use `zero_division` parameter to control this behavior.\n",
      "  _warn_prf(average, modifier, msg_start, len(result))\n",
      "C:\\Users\\mattb\\anaconda3\\lib\\site-packages\\sklearn\\metrics\\_classification.py:1344: UndefinedMetricWarning: Precision and F-score are ill-defined and being set to 0.0 in labels with no predicted samples. Use `zero_division` parameter to control this behavior.\n",
      "  _warn_prf(average, modifier, msg_start, len(result))\n"
     ]
    }
   ],
   "source": [
    "########## Bias ############\n",
    "\n",
    "def bias(y_pred, ys):\n",
    "    \n",
    "    unit_bias = ys - y_pred\n",
    "    \n",
    "    return unit_bias.sum()\n",
    "\n",
    "\n",
    "def confusion_matrix_plot(y_pred, ys):\n",
    "    \n",
    "    labels = ys.unique()\n",
    "    print(labels)\n",
    "    \n",
    "    cm = confusion_matrix(ys, y_pred, labels = labels)\n",
    "    \n",
    "    \n",
    "    disp = ConfusionMatrixDisplay(confusion_matrix=cm, display_labels=labels)\n",
    "    disp.plot()\n",
    "    plt.show()\n",
    "    \n",
    "    evalMetrics = classification_report(ys, y_pred, digits=3)\n",
    "    print(evalMetrics)\n",
    "    \n",
    "    return cm\n",
    "\n",
    "    \n",
    "\n",
    "ys = pd.Series([1,3,2,1,2,3])\n",
    "\n",
    "y_preds = pd.Series([2,3,2,2,2,3])\n",
    "\n",
    "a = confusion_matrix_plot(y_preds, ys)\n",
    "\n",
    "precision_recall(a)\n",
    "    "
   ]
  },
  {
   "cell_type": "code",
   "execution_count": null,
   "id": "821b0b16",
   "metadata": {},
   "outputs": [],
   "source": []
  }
 ],
 "metadata": {
  "kernelspec": {
   "display_name": "Python 3 (ipykernel)",
   "language": "python",
   "name": "python3"
  },
  "language_info": {
   "codemirror_mode": {
    "name": "ipython",
    "version": 3
   },
   "file_extension": ".py",
   "mimetype": "text/x-python",
   "name": "python",
   "nbconvert_exporter": "python",
   "pygments_lexer": "ipython3",
   "version": "3.10.9"
  }
 },
 "nbformat": 4,
 "nbformat_minor": 5
}
